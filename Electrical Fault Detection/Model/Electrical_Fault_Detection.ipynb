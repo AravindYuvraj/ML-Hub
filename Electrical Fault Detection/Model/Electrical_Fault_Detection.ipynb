{
  "nbformat": 4,
  "nbformat_minor": 0,
  "metadata": {
    "colab": {
      "provenance": []
    },
    "kernelspec": {
      "name": "python3",
      "display_name": "Python 3"
    },
    "language_info": {
      "name": "python"
    }
  },
  "cells": [
    {
      "cell_type": "markdown",
      "source": [
        "### **Electrical Fault Detection**"
      ],
      "metadata": {
        "id": "mqD9ogKBC6DX"
      }
    },
    {
      "cell_type": "markdown",
      "source": [
        "**Importing libraries and loading data**"
      ],
      "metadata": {
        "id": "c1S_VMcUDiqE"
      }
    },
    {
      "cell_type": "code",
      "source": [
        "#importing libraries\n",
        "import numpy as np\n",
        "import pandas as pd\n",
        "import matplotlib.pyplot as plt\n",
        "import seaborn as sns\n",
        "\n",
        "import tensorflow as tf\n",
        "from tensorflow import keras \n",
        "from keras import models\n",
        "from sklearn.model_selection import train_test_split\n",
        "from sklearn.preprocessing import LabelEncoder\n",
        "from sklearn import metrics\n",
        "from sklearn.metrics import accuracy_score, precision_score, recall_score, f1_score, confusion_matrix, classification_report"
      ],
      "metadata": {
        "id": "wbjXcRP4B2Re"
      },
      "execution_count": 127,
      "outputs": []
    },
    {
      "cell_type": "code",
      "source": [
        "#loading dataset\n",
        "detection = pd.read_csv('detect_dataset.csv')\n",
        "df_class = pd.read_csv('classData.csv')"
      ],
      "metadata": {
        "id": "ZCh26LzJB8Ec"
      },
      "execution_count": 128,
      "outputs": []
    },
    {
      "cell_type": "markdown",
      "source": [
        "**Fault Detection - Binary Classification**"
      ],
      "metadata": {
        "id": "WhDIKDYVF6Bk"
      }
    },
    {
      "cell_type": "markdown",
      "source": [
        "Data Preprocessing"
      ],
      "metadata": {
        "id": "oxRXhemUiAD2"
      }
    },
    {
      "cell_type": "code",
      "source": [
        "detection.head()"
      ],
      "metadata": {
        "colab": {
          "base_uri": "https://localhost:8080/",
          "height": 206
        },
        "id": "S7hVSt5nCdU_",
        "outputId": "d3b8305d-853b-450f-b909-1be95ad57fa4"
      },
      "execution_count": 129,
      "outputs": [
        {
          "output_type": "execute_result",
          "data": {
            "text/plain": [
              "   Output (S)          Ia        Ib          Ic        Va        Vb        Vc  \\\n",
              "0           0 -170.472196  9.219613  161.252583  0.054490 -0.659921  0.605431   \n",
              "1           0 -122.235754  6.168667  116.067087  0.102000 -0.628612  0.526202   \n",
              "2           0  -90.161474  3.813632   86.347841  0.141026 -0.605277  0.464251   \n",
              "3           0  -79.904916  2.398803   77.506112  0.156272 -0.602235  0.445963   \n",
              "4           0  -63.885255  0.590667   63.294587  0.180451 -0.591501  0.411050   \n",
              "\n",
              "   Unnamed: 7  Unnamed: 8  \n",
              "0         NaN         NaN  \n",
              "1         NaN         NaN  \n",
              "2         NaN         NaN  \n",
              "3         NaN         NaN  \n",
              "4         NaN         NaN  "
            ],
            "text/html": [
              "\n",
              "  <div id=\"df-53370408-047d-46f7-868b-34ba773513da\">\n",
              "    <div class=\"colab-df-container\">\n",
              "      <div>\n",
              "<style scoped>\n",
              "    .dataframe tbody tr th:only-of-type {\n",
              "        vertical-align: middle;\n",
              "    }\n",
              "\n",
              "    .dataframe tbody tr th {\n",
              "        vertical-align: top;\n",
              "    }\n",
              "\n",
              "    .dataframe thead th {\n",
              "        text-align: right;\n",
              "    }\n",
              "</style>\n",
              "<table border=\"1\" class=\"dataframe\">\n",
              "  <thead>\n",
              "    <tr style=\"text-align: right;\">\n",
              "      <th></th>\n",
              "      <th>Output (S)</th>\n",
              "      <th>Ia</th>\n",
              "      <th>Ib</th>\n",
              "      <th>Ic</th>\n",
              "      <th>Va</th>\n",
              "      <th>Vb</th>\n",
              "      <th>Vc</th>\n",
              "      <th>Unnamed: 7</th>\n",
              "      <th>Unnamed: 8</th>\n",
              "    </tr>\n",
              "  </thead>\n",
              "  <tbody>\n",
              "    <tr>\n",
              "      <th>0</th>\n",
              "      <td>0</td>\n",
              "      <td>-170.472196</td>\n",
              "      <td>9.219613</td>\n",
              "      <td>161.252583</td>\n",
              "      <td>0.054490</td>\n",
              "      <td>-0.659921</td>\n",
              "      <td>0.605431</td>\n",
              "      <td>NaN</td>\n",
              "      <td>NaN</td>\n",
              "    </tr>\n",
              "    <tr>\n",
              "      <th>1</th>\n",
              "      <td>0</td>\n",
              "      <td>-122.235754</td>\n",
              "      <td>6.168667</td>\n",
              "      <td>116.067087</td>\n",
              "      <td>0.102000</td>\n",
              "      <td>-0.628612</td>\n",
              "      <td>0.526202</td>\n",
              "      <td>NaN</td>\n",
              "      <td>NaN</td>\n",
              "    </tr>\n",
              "    <tr>\n",
              "      <th>2</th>\n",
              "      <td>0</td>\n",
              "      <td>-90.161474</td>\n",
              "      <td>3.813632</td>\n",
              "      <td>86.347841</td>\n",
              "      <td>0.141026</td>\n",
              "      <td>-0.605277</td>\n",
              "      <td>0.464251</td>\n",
              "      <td>NaN</td>\n",
              "      <td>NaN</td>\n",
              "    </tr>\n",
              "    <tr>\n",
              "      <th>3</th>\n",
              "      <td>0</td>\n",
              "      <td>-79.904916</td>\n",
              "      <td>2.398803</td>\n",
              "      <td>77.506112</td>\n",
              "      <td>0.156272</td>\n",
              "      <td>-0.602235</td>\n",
              "      <td>0.445963</td>\n",
              "      <td>NaN</td>\n",
              "      <td>NaN</td>\n",
              "    </tr>\n",
              "    <tr>\n",
              "      <th>4</th>\n",
              "      <td>0</td>\n",
              "      <td>-63.885255</td>\n",
              "      <td>0.590667</td>\n",
              "      <td>63.294587</td>\n",
              "      <td>0.180451</td>\n",
              "      <td>-0.591501</td>\n",
              "      <td>0.411050</td>\n",
              "      <td>NaN</td>\n",
              "      <td>NaN</td>\n",
              "    </tr>\n",
              "  </tbody>\n",
              "</table>\n",
              "</div>\n",
              "      <button class=\"colab-df-convert\" onclick=\"convertToInteractive('df-53370408-047d-46f7-868b-34ba773513da')\"\n",
              "              title=\"Convert this dataframe to an interactive table.\"\n",
              "              style=\"display:none;\">\n",
              "        \n",
              "  <svg xmlns=\"http://www.w3.org/2000/svg\" height=\"24px\"viewBox=\"0 0 24 24\"\n",
              "       width=\"24px\">\n",
              "    <path d=\"M0 0h24v24H0V0z\" fill=\"none\"/>\n",
              "    <path d=\"M18.56 5.44l.94 2.06.94-2.06 2.06-.94-2.06-.94-.94-2.06-.94 2.06-2.06.94zm-11 1L8.5 8.5l.94-2.06 2.06-.94-2.06-.94L8.5 2.5l-.94 2.06-2.06.94zm10 10l.94 2.06.94-2.06 2.06-.94-2.06-.94-.94-2.06-.94 2.06-2.06.94z\"/><path d=\"M17.41 7.96l-1.37-1.37c-.4-.4-.92-.59-1.43-.59-.52 0-1.04.2-1.43.59L10.3 9.45l-7.72 7.72c-.78.78-.78 2.05 0 2.83L4 21.41c.39.39.9.59 1.41.59.51 0 1.02-.2 1.41-.59l7.78-7.78 2.81-2.81c.8-.78.8-2.07 0-2.86zM5.41 20L4 18.59l7.72-7.72 1.47 1.35L5.41 20z\"/>\n",
              "  </svg>\n",
              "      </button>\n",
              "      \n",
              "  <style>\n",
              "    .colab-df-container {\n",
              "      display:flex;\n",
              "      flex-wrap:wrap;\n",
              "      gap: 12px;\n",
              "    }\n",
              "\n",
              "    .colab-df-convert {\n",
              "      background-color: #E8F0FE;\n",
              "      border: none;\n",
              "      border-radius: 50%;\n",
              "      cursor: pointer;\n",
              "      display: none;\n",
              "      fill: #1967D2;\n",
              "      height: 32px;\n",
              "      padding: 0 0 0 0;\n",
              "      width: 32px;\n",
              "    }\n",
              "\n",
              "    .colab-df-convert:hover {\n",
              "      background-color: #E2EBFA;\n",
              "      box-shadow: 0px 1px 2px rgba(60, 64, 67, 0.3), 0px 1px 3px 1px rgba(60, 64, 67, 0.15);\n",
              "      fill: #174EA6;\n",
              "    }\n",
              "\n",
              "    [theme=dark] .colab-df-convert {\n",
              "      background-color: #3B4455;\n",
              "      fill: #D2E3FC;\n",
              "    }\n",
              "\n",
              "    [theme=dark] .colab-df-convert:hover {\n",
              "      background-color: #434B5C;\n",
              "      box-shadow: 0px 1px 3px 1px rgba(0, 0, 0, 0.15);\n",
              "      filter: drop-shadow(0px 1px 2px rgba(0, 0, 0, 0.3));\n",
              "      fill: #FFFFFF;\n",
              "    }\n",
              "  </style>\n",
              "\n",
              "      <script>\n",
              "        const buttonEl =\n",
              "          document.querySelector('#df-53370408-047d-46f7-868b-34ba773513da button.colab-df-convert');\n",
              "        buttonEl.style.display =\n",
              "          google.colab.kernel.accessAllowed ? 'block' : 'none';\n",
              "\n",
              "        async function convertToInteractive(key) {\n",
              "          const element = document.querySelector('#df-53370408-047d-46f7-868b-34ba773513da');\n",
              "          const dataTable =\n",
              "            await google.colab.kernel.invokeFunction('convertToInteractive',\n",
              "                                                     [key], {});\n",
              "          if (!dataTable) return;\n",
              "\n",
              "          const docLinkHtml = 'Like what you see? Visit the ' +\n",
              "            '<a target=\"_blank\" href=https://colab.research.google.com/notebooks/data_table.ipynb>data table notebook</a>'\n",
              "            + ' to learn more about interactive tables.';\n",
              "          element.innerHTML = '';\n",
              "          dataTable['output_type'] = 'display_data';\n",
              "          await google.colab.output.renderOutput(dataTable, element);\n",
              "          const docLink = document.createElement('div');\n",
              "          docLink.innerHTML = docLinkHtml;\n",
              "          element.appendChild(docLink);\n",
              "        }\n",
              "      </script>\n",
              "    </div>\n",
              "  </div>\n",
              "  "
            ]
          },
          "metadata": {},
          "execution_count": 129
        }
      ]
    },
    {
      "cell_type": "code",
      "source": [
        "#removing NaN columns\n",
        "detection.drop(detection.iloc[:,[7,8]], axis=1, inplace=True)"
      ],
      "metadata": {
        "id": "CD7-Z8RMCgse"
      },
      "execution_count": 130,
      "outputs": []
    },
    {
      "cell_type": "code",
      "source": [
        "detection.shape"
      ],
      "metadata": {
        "colab": {
          "base_uri": "https://localhost:8080/"
        },
        "id": "OwJHQEqZEBok",
        "outputId": "87d3ed47-5aa2-4763-9182-8297793978bf"
      },
      "execution_count": 131,
      "outputs": [
        {
          "output_type": "execute_result",
          "data": {
            "text/plain": [
              "(12001, 7)"
            ]
          },
          "metadata": {},
          "execution_count": 131
        }
      ]
    },
    {
      "cell_type": "markdown",
      "source": [
        "Data Visualization"
      ],
      "metadata": {
        "id": "veqeBJYaiEbi"
      }
    },
    {
      "cell_type": "code",
      "source": [
        "#Plotting Voltage vs Current Graph\n",
        "plt.subplots(figsize=(15, 5))\n",
        "\n",
        "plt.subplot(1, 3, 1)\n",
        "plt.scatter(detection['Ia'], detection['Va'])\n",
        "plt.xlabel(\"Ia\")\n",
        "plt.ylabel(\"Va\")\n",
        "\n",
        "plt.subplot(1, 3, 2)\n",
        "plt.scatter(detection['Ib'], detection['Vb'], color = \"red\")\n",
        "plt.xlabel(\"Ib\")\n",
        "plt.ylabel(\"Vb\")\n",
        "\n",
        "plt.subplot(1, 3, 3)\n",
        "plt.scatter(detection['Ic'], detection['Vc'], color = \"green\")\n",
        "plt.xlabel(\"Ic\")\n",
        "plt.ylabel(\"Vc\")\n",
        "\n",
        "plt.tight_layout(4)\n",
        "plt.show()"
      ],
      "metadata": {
        "colab": {
          "base_uri": "https://localhost:8080/",
          "height": 311
        },
        "id": "IaTONYo3DBWJ",
        "outputId": "77041cbd-978e-464a-cd81-3fb57debf95e"
      },
      "execution_count": 132,
      "outputs": [
        {
          "output_type": "display_data",
          "data": {
            "text/plain": [
              "<Figure size 1080x360 with 3 Axes>"
            ],
            "image/png": "[encoded data removed]"
          },
          "metadata": {
            "needs_background": "light"
          }
        }
      ]
    },
    {
      "cell_type": "code",
      "source": [
        "#Plotting graph for fault and no fault\n",
        "fault = detection[detection['Output (S)'] == 1]\n",
        "no_fault = detection[detection['Output (S)'] == 0]\n",
        "\n",
        "plt.subplots(figsize=(10, 10))\n",
        "\n",
        "plt.subplot(3, 2, 1)\n",
        "plt.scatter(no_fault['Ia'], no_fault['Va'])\n",
        "plt.xlabel(\"Ia\")\n",
        "plt.ylabel(\"Va\")\n",
        "plt.title(\"No Fault\")\n",
        "\n",
        "plt.subplot(3, 2, 2)\n",
        "plt.scatter(fault['Ia'], fault['Va'])\n",
        "plt.xlabel(\"Ia\")\n",
        "plt.ylabel(\"Va\")\n",
        "plt.title(\"Fault\")\n",
        "\n",
        "plt.subplot(3, 2, 3)\n",
        "plt.scatter(no_fault['Ib'], no_fault['Vb'], color = \"red\")\n",
        "plt.xlabel(\"Ib\")\n",
        "plt.ylabel(\"Vb\")\n",
        "plt.title(\"No Fault\")\n",
        "\n",
        "plt.subplot(3, 2, 4)\n",
        "plt.scatter(fault['Ib'], fault['Vb'], color = \"red\")\n",
        "plt.xlabel(\"Ib\")\n",
        "plt.ylabel(\"Vb\")\n",
        "plt.title(\"Fault\")\n",
        "\n",
        "plt.subplot(3, 2, 5)\n",
        "plt.scatter(no_fault['Ic'], no_fault['Vc'], color = \"green\")\n",
        "plt.xlabel(\"Ic\")\n",
        "plt.ylabel(\"Vc\")\n",
        "plt.title(\"No Fault\")\n",
        "\n",
        "plt.subplot(3, 2, 6)\n",
        "plt.scatter(fault['Ic'], fault['Vc'], color = \"green\")\n",
        "plt.xlabel(\"Ic\")\n",
        "plt.ylabel(\"Vc\")\n",
        "plt.title(\"Fault\")\n",
        "\n",
        "plt.tight_layout(4)\n",
        "plt.show()"
      ],
      "metadata": {
        "colab": {
          "base_uri": "https://localhost:8080/",
          "height": 671
        },
        "id": "BYCYbQwvy4E1",
        "outputId": "cc9d888f-c97c-4aed-85c7-c5f83781647d"
      },
      "execution_count": 133,
      "outputs": [
        {
          "output_type": "display_data",
          "data": {
            "text/plain": [
              "<Figure size 720x720 with 6 Axes>"
            ],
            "image/png": "[encoded data removed]"
          },
          "metadata": {
            "needs_background": "light"
          }
        }
      ]
    },
    {
      "cell_type": "code",
      "source": [
        "#Checking for null values\n",
        "detection.isna().sum()"
      ],
      "metadata": {
        "colab": {
          "base_uri": "https://localhost:8080/"
        },
        "id": "fAMvDGBDEGHB",
        "outputId": "010a9b1b-6e99-474a-bf0d-ed5e647357d3"
      },
      "execution_count": 134,
      "outputs": [
        {
          "output_type": "execute_result",
          "data": {
            "text/plain": [
              "Output (S)    0\n",
              "Ia            0\n",
              "Ib            0\n",
              "Ic            0\n",
              "Va            0\n",
              "Vb            0\n",
              "Vc            0\n",
              "dtype: int64"
            ]
          },
          "metadata": {},
          "execution_count": 134
        }
      ]
    },
    {
      "cell_type": "markdown",
      "source": [
        "Model Creation"
      ],
      "metadata": {
        "id": "iOgbsBUDiJzg"
      }
    },
    {
      "cell_type": "code",
      "source": [
        "#setting feature and target variable\n",
        "y = detection.iloc[:,0]\n",
        "X = detection.iloc[:,1:7]\n",
        "\n",
        "#splitting train and test data\n",
        "X_train, X_test, y_train, y_test = train_test_split(X, y, test_size=0.20, random_state=1)"
      ],
      "metadata": {
        "id": "bt4bcONnI4V8"
      },
      "execution_count": 135,
      "outputs": []
    },
    {
      "cell_type": "code",
      "source": [
        "#Model Creation\n",
        "detection_model = models.Sequential()\n",
        "\n",
        "detection_model.add(keras.layers.Dense(6,\n",
        "                              input_shape=(6,),\n",
        "                              name='Input_layer',\n",
        "                              activation='relu'))\n",
        "detection_model.add(keras.layers.Dense(16,\n",
        "                             name='Hidden_layer1',\n",
        "                             activation='relu'))\n",
        "detection_model.add(keras.layers.Dense(1,\n",
        "                             name='Output_layer',\n",
        "                             activation='sigmoid'))\n",
        "\n",
        "detection_model.compile(optimizer = keras.optimizers.Adam(), \n",
        "                        loss = keras.losses.binary_crossentropy, \n",
        "                        metrics = keras.metrics.binary_accuracy)"
      ],
      "metadata": {
        "id": "46cZo0AEJDKP"
      },
      "execution_count": 136,
      "outputs": []
    },
    {
      "cell_type": "code",
      "source": [
        "detection_model.fit(X_train, y_train, epochs=15)"
      ],
      "metadata": {
        "colab": {
          "base_uri": "https://localhost:8080/"
        },
        "id": "XhiuK0sl49EH",
        "outputId": "0808a1e9-63b3-4522-e091-7c5c6f707a0f"
      },
      "execution_count": 137,
      "outputs": [
        {
          "output_type": "stream",
          "name": "stdout",
          "text": [
            "Epoch 1/15\n",
            "300/300 [==============================] - 1s 2ms/step - loss: 2.8003 - binary_accuracy: 0.5469\n",
            "Epoch 2/15\n",
            "300/300 [==============================] - 1s 2ms/step - loss: 0.3422 - binary_accuracy: 0.8656\n",
            "Epoch 3/15\n",
            "300/300 [==============================] - 0s 2ms/step - loss: 0.2109 - binary_accuracy: 0.9734\n",
            "Epoch 4/15\n",
            "300/300 [==============================] - 0s 2ms/step - loss: 0.1549 - binary_accuracy: 0.9776\n",
            "Epoch 5/15\n",
            "300/300 [==============================] - 1s 2ms/step - loss: 0.1222 - binary_accuracy: 0.9797\n",
            "Epoch 6/15\n",
            "300/300 [==============================] - 1s 2ms/step - loss: 0.1039 - binary_accuracy: 0.9801\n",
            "Epoch 7/15\n",
            "300/300 [==============================] - 0s 2ms/step - loss: 0.0901 - binary_accuracy: 0.9817\n",
            "Epoch 8/15\n",
            "300/300 [==============================] - 0s 2ms/step - loss: 0.0806 - binary_accuracy: 0.9827\n",
            "Epoch 9/15\n",
            "300/300 [==============================] - 1s 2ms/step - loss: 0.0720 - binary_accuracy: 0.9832\n",
            "Epoch 10/15\n",
            "300/300 [==============================] - 1s 2ms/step - loss: 0.0662 - binary_accuracy: 0.9848\n",
            "Epoch 11/15\n",
            "300/300 [==============================] - 1s 2ms/step - loss: 0.0620 - binary_accuracy: 0.9857\n",
            "Epoch 12/15\n",
            "300/300 [==============================] - 1s 2ms/step - loss: 0.0581 - binary_accuracy: 0.9865\n",
            "Epoch 13/15\n",
            "300/300 [==============================] - 0s 2ms/step - loss: 0.0551 - binary_accuracy: 0.9869\n",
            "Epoch 14/15\n",
            "300/300 [==============================] - 1s 2ms/step - loss: 0.0527 - binary_accuracy: 0.9873\n",
            "Epoch 15/15\n",
            "300/300 [==============================] - 0s 2ms/step - loss: 0.0508 - binary_accuracy: 0.9871\n"
          ]
        },
        {
          "output_type": "execute_result",
          "data": {
            "text/plain": [
              "<keras.callbacks.History at 0x7f81c8cb3c10>"
            ]
          },
          "metadata": {},
          "execution_count": 137
        }
      ]
    },
    {
      "cell_type": "code",
      "source": [
        "y_pred = detection_model.predict(X_test)\n",
        "y_pred = np.where(y_pred>0.5, 1, 0)"
      ],
      "metadata": {
        "colab": {
          "base_uri": "https://localhost:8080/"
        },
        "id": "0o_TGH1j5V78",
        "outputId": "d14899d9-8502-4202-da8c-1e96104a9da7"
      },
      "execution_count": 138,
      "outputs": [
        {
          "output_type": "stream",
          "name": "stdout",
          "text": [
            "76/76 [==============================] - 0s 1ms/step\n"
          ]
        }
      ]
    },
    {
      "cell_type": "markdown",
      "source": [
        "Model Performance"
      ],
      "metadata": {
        "id": "EQ3Xj_0iiVdZ"
      }
    },
    {
      "cell_type": "code",
      "source": [
        "print(classification_report(y_test, y_pred))"
      ],
      "metadata": {
        "colab": {
          "base_uri": "https://localhost:8080/"
        },
        "id": "EScRVF5-5i5X",
        "outputId": "fb5c6879-b895-4258-f9c3-3e39b1b5d060"
      },
      "execution_count": 139,
      "outputs": [
        {
          "output_type": "stream",
          "name": "stdout",
          "text": [
            "              precision    recall  f1-score   support\n",
            "\n",
            "           0       0.98      1.00      0.99      1297\n",
            "           1       1.00      0.98      0.99      1104\n",
            "\n",
            "    accuracy                           0.99      2401\n",
            "   macro avg       0.99      0.99      0.99      2401\n",
            "weighted avg       0.99      0.99      0.99      2401\n",
            "\n"
          ]
        }
      ]
    },
    {
      "cell_type": "code",
      "source": [
        "print(f'Accuracy Score : {accuracy_score(y_test, y_pred)*100:.02f}%')"
      ],
      "metadata": {
        "colab": {
          "base_uri": "https://localhost:8080/"
        },
        "id": "Rs-2D6g5gHOM",
        "outputId": "1d0a9f8d-8b5e-419d-fc48-d9f49c79068b"
      },
      "execution_count": 140,
      "outputs": [
        {
          "output_type": "stream",
          "name": "stdout",
          "text": [
            "Accuracy Score : 99.04%\n"
          ]
        }
      ]
    },
    {
      "cell_type": "code",
      "source": [
        "#confusion matrix\n",
        "fig, ax = plt.subplots()\n",
        "class_names=[0,1]\n",
        "tick_marks = np.arange(len(class_names))\n",
        "plt.xticks(tick_marks, class_names)\n",
        "plt.yticks(tick_marks, class_names)\n",
        "\n",
        "cnf_matrix = metrics.confusion_matrix(y_test, y_pred)\n",
        "sns.heatmap(pd.DataFrame(cnf_matrix), annot=True, cmap=\"YlGnBu\" ,fmt='g')\n",
        "ax.xaxis.set_label_position(\"top\")\n",
        "plt.tight_layout()\n",
        "plt.title('Confusion matrix', y=1.1)\n",
        "plt.ylabel('Actual label')\n",
        "plt.xlabel('Predicted label')"
      ],
      "metadata": {
        "colab": {
          "base_uri": "https://localhost:8080/",
          "height": 342
        },
        "id": "9o0hfFRdFva6",
        "outputId": "6e262b68-913e-48d7-b162-f3455c2bb243"
      },
      "execution_count": 141,
      "outputs": [
        {
          "output_type": "execute_result",
          "data": {
            "text/plain": [
              "Text(0.5, 257.44, 'Predicted label')"
            ]
          },
          "metadata": {},
          "execution_count": 141
        },
        {
          "output_type": "display_data",
          "data": {
            "text/plain": [
              "<Figure size 432x288 with 2 Axes>"
            ],
            "image/png": "[encoded data removed]"
          },
          "metadata": {
            "needs_background": "light"
          }
        }
      ]
    },
    {
      "cell_type": "markdown",
      "source": [
        "**Fault Classification - Multiclass Classification**"
      ],
      "metadata": {
        "id": "xfLA79PJF_ez"
      }
    },
    {
      "cell_type": "markdown",
      "source": [
        "Data Preprocessing"
      ],
      "metadata": {
        "id": "GLMe1PeNiajj"
      }
    },
    {
      "cell_type": "code",
      "source": [
        "df_class.head()"
      ],
      "metadata": {
        "colab": {
          "base_uri": "https://localhost:8080/",
          "height": 206
        },
        "id": "7LmheHWLHCTi",
        "outputId": "8add1c68-c36e-4686-8fdb-0d77b2d72fb0"
      },
      "execution_count": 142,
      "outputs": [
        {
          "output_type": "execute_result",
          "data": {
            "text/plain": [
              "   G  C  B  A          Ia          Ib          Ic        Va        Vb  \\\n",
              "0  1  0  0  1 -151.291812   -9.677452   85.800162  0.400750 -0.132935   \n",
              "1  1  0  0  1 -336.186183  -76.283262   18.328897  0.312732 -0.123633   \n",
              "2  1  0  0  1 -502.891583 -174.648023  -80.924663  0.265728 -0.114301   \n",
              "3  1  0  0  1 -593.941905 -217.703359 -124.891924  0.235511 -0.104940   \n",
              "4  1  0  0  1 -643.663617 -224.159427 -132.282815  0.209537 -0.095554   \n",
              "\n",
              "         Vc  \n",
              "0 -0.267815  \n",
              "1 -0.189099  \n",
              "2 -0.151428  \n",
              "3 -0.130570  \n",
              "4 -0.113983  "
            ],
            "text/html": [
              "\n",
              "  <div id=\"df-593ba63e-92d0-40d9-8d7b-f8612b58a192\">\n",
              "    <div class=\"colab-df-container\">\n",
              "      <div>\n",
              "<style scoped>\n",
              "    .dataframe tbody tr th:only-of-type {\n",
              "        vertical-align: middle;\n",
              "    }\n",
              "\n",
              "    .dataframe tbody tr th {\n",
              "        vertical-align: top;\n",
              "    }\n",
              "\n",
              "    .dataframe thead th {\n",
              "        text-align: right;\n",
              "    }\n",
              "</style>\n",
              "<table border=\"1\" class=\"dataframe\">\n",
              "  <thead>\n",
              "    <tr style=\"text-align: right;\">\n",
              "      <th></th>\n",
              "      <th>G</th>\n",
              "      <th>C</th>\n",
              "      <th>B</th>\n",
              "      <th>A</th>\n",
              "      <th>Ia</th>\n",
              "      <th>Ib</th>\n",
              "      <th>Ic</th>\n",
              "      <th>Va</th>\n",
              "      <th>Vb</th>\n",
              "      <th>Vc</th>\n",
              "    </tr>\n",
              "  </thead>\n",
              "  <tbody>\n",
              "    <tr>\n",
              "      <th>0</th>\n",
              "      <td>1</td>\n",
              "      <td>0</td>\n",
              "      <td>0</td>\n",
              "      <td>1</td>\n",
              "      <td>-151.291812</td>\n",
              "      <td>-9.677452</td>\n",
              "      <td>85.800162</td>\n",
              "      <td>0.400750</td>\n",
              "      <td>-0.132935</td>\n",
              "      <td>-0.267815</td>\n",
              "    </tr>\n",
              "    <tr>\n",
              "      <th>1</th>\n",
              "      <td>1</td>\n",
              "      <td>0</td>\n",
              "      <td>0</td>\n",
              "      <td>1</td>\n",
              "      <td>-336.186183</td>\n",
              "      <td>-76.283262</td>\n",
              "      <td>18.328897</td>\n",
              "      <td>0.312732</td>\n",
              "      <td>-0.123633</td>\n",
              "      <td>-0.189099</td>\n",
              "    </tr>\n",
              "    <tr>\n",
              "      <th>2</th>\n",
              "      <td>1</td>\n",
              "      <td>0</td>\n",
              "      <td>0</td>\n",
              "      <td>1</td>\n",
              "      <td>-502.891583</td>\n",
              "      <td>-174.648023</td>\n",
              "      <td>-80.924663</td>\n",
              "      <td>0.265728</td>\n",
              "      <td>-0.114301</td>\n",
              "      <td>-0.151428</td>\n",
              "    </tr>\n",
              "    <tr>\n",
              "      <th>3</th>\n",
              "      <td>1</td>\n",
              "      <td>0</td>\n",
              "      <td>0</td>\n",
              "      <td>1</td>\n",
              "      <td>-593.941905</td>\n",
              "      <td>-217.703359</td>\n",
              "      <td>-124.891924</td>\n",
              "      <td>0.235511</td>\n",
              "      <td>-0.104940</td>\n",
              "      <td>-0.130570</td>\n",
              "    </tr>\n",
              "    <tr>\n",
              "      <th>4</th>\n",
              "      <td>1</td>\n",
              "      <td>0</td>\n",
              "      <td>0</td>\n",
              "      <td>1</td>\n",
              "      <td>-643.663617</td>\n",
              "      <td>-224.159427</td>\n",
              "      <td>-132.282815</td>\n",
              "      <td>0.209537</td>\n",
              "      <td>-0.095554</td>\n",
              "      <td>-0.113983</td>\n",
              "    </tr>\n",
              "  </tbody>\n",
              "</table>\n",
              "</div>\n",
              "      <button class=\"colab-df-convert\" onclick=\"convertToInteractive('df-593ba63e-92d0-40d9-8d7b-f8612b58a192')\"\n",
              "              title=\"Convert this dataframe to an interactive table.\"\n",
              "              style=\"display:none;\">\n",
              "        \n",
              "  <svg xmlns=\"http://www.w3.org/2000/svg\" height=\"24px\"viewBox=\"0 0 24 24\"\n",
              "       width=\"24px\">\n",
              "    <path d=\"M0 0h24v24H0V0z\" fill=\"none\"/>\n",
              "    <path d=\"M18.56 5.44l.94 2.06.94-2.06 2.06-.94-2.06-.94-.94-2.06-.94 2.06-2.06.94zm-11 1L8.5 8.5l.94-2.06 2.06-.94-2.06-.94L8.5 2.5l-.94 2.06-2.06.94zm10 10l.94 2.06.94-2.06 2.06-.94-2.06-.94-.94-2.06-.94 2.06-2.06.94z\"/><path d=\"M17.41 7.96l-1.37-1.37c-.4-.4-.92-.59-1.43-.59-.52 0-1.04.2-1.43.59L10.3 9.45l-7.72 7.72c-.78.78-.78 2.05 0 2.83L4 21.41c.39.39.9.59 1.41.59.51 0 1.02-.2 1.41-.59l7.78-7.78 2.81-2.81c.8-.78.8-2.07 0-2.86zM5.41 20L4 18.59l7.72-7.72 1.47 1.35L5.41 20z\"/>\n",
              "  </svg>\n",
              "      </button>\n",
              "      \n",
              "  <style>\n",
              "    .colab-df-container {\n",
              "      display:flex;\n",
              "      flex-wrap:wrap;\n",
              "      gap: 12px;\n",
              "    }\n",
              "\n",
              "    .colab-df-convert {\n",
              "      background-color: #E8F0FE;\n",
              "      border: none;\n",
              "      border-radius: 50%;\n",
              "      cursor: pointer;\n",
              "      display: none;\n",
              "      fill: #1967D2;\n",
              "      height: 32px;\n",
              "      padding: 0 0 0 0;\n",
              "      width: 32px;\n",
              "    }\n",
              "\n",
              "    .colab-df-convert:hover {\n",
              "      background-color: #E2EBFA;\n",
              "      box-shadow: 0px 1px 2px rgba(60, 64, 67, 0.3), 0px 1px 3px 1px rgba(60, 64, 67, 0.15);\n",
              "      fill: #174EA6;\n",
              "    }\n",
              "\n",
              "    [theme=dark] .colab-df-convert {\n",
              "      background-color: #3B4455;\n",
              "      fill: #D2E3FC;\n",
              "    }\n",
              "\n",
              "    [theme=dark] .colab-df-convert:hover {\n",
              "      background-color: #434B5C;\n",
              "      box-shadow: 0px 1px 3px 1px rgba(0, 0, 0, 0.15);\n",
              "      filter: drop-shadow(0px 1px 2px rgba(0, 0, 0, 0.3));\n",
              "      fill: #FFFFFF;\n",
              "    }\n",
              "  </style>\n",
              "\n",
              "      <script>\n",
              "        const buttonEl =\n",
              "          document.querySelector('#df-593ba63e-92d0-40d9-8d7b-f8612b58a192 button.colab-df-convert');\n",
              "        buttonEl.style.display =\n",
              "          google.colab.kernel.accessAllowed ? 'block' : 'none';\n",
              "\n",
              "        async function convertToInteractive(key) {\n",
              "          const element = document.querySelector('#df-593ba63e-92d0-40d9-8d7b-f8612b58a192');\n",
              "          const dataTable =\n",
              "            await google.colab.kernel.invokeFunction('convertToInteractive',\n",
              "                                                     [key], {});\n",
              "          if (!dataTable) return;\n",
              "\n",
              "          const docLinkHtml = 'Like what you see? Visit the ' +\n",
              "            '<a target=\"_blank\" href=https://colab.research.google.com/notebooks/data_table.ipynb>data table notebook</a>'\n",
              "            + ' to learn more about interactive tables.';\n",
              "          element.innerHTML = '';\n",
              "          dataTable['output_type'] = 'display_data';\n",
              "          await google.colab.output.renderOutput(dataTable, element);\n",
              "          const docLink = document.createElement('div');\n",
              "          docLink.innerHTML = docLinkHtml;\n",
              "          element.appendChild(docLink);\n",
              "        }\n",
              "      </script>\n",
              "    </div>\n",
              "  </div>\n",
              "  "
            ]
          },
          "metadata": {},
          "execution_count": 142
        }
      ]
    },
    {
      "cell_type": "code",
      "source": [
        "df_class.shape"
      ],
      "metadata": {
        "colab": {
          "base_uri": "https://localhost:8080/"
        },
        "id": "B9s-nnY0GiwQ",
        "outputId": "7d55eed9-6cc0-42b6-99a5-2ab8f4a32b2f"
      },
      "execution_count": 143,
      "outputs": [
        {
          "output_type": "execute_result",
          "data": {
            "text/plain": [
              "(7861, 10)"
            ]
          },
          "metadata": {},
          "execution_count": 143
        }
      ]
    },
    {
      "cell_type": "markdown",
      "source": [
        "Output: [G C B A]\n",
        "\n",
        "[0 0 0 0] - No Fault\n",
        "\n",
        "[1 0 0 1] - LG fault (Between Phase A and Ground)\n",
        "\n",
        "[0 0 1 1] - LL fault (Between Phase A and Phase B)\n",
        "\n",
        "[1 0 1 1] - LLG Fault (Between Phases A,B and Ground)\n",
        "\n",
        "[0 1 1 1] - LLL Fault (Between all three phases)\n",
        "\n",
        "[1 1 1 1] - LLLG fault (Three phase symmetrical fault)"
      ],
      "metadata": {
        "id": "SZkAdF9ggYHk"
      }
    },
    {
      "cell_type": "code",
      "source": [
        "#creating a new column for fault type\n",
        "df_class['faultType'] = (df_class['G'].astype(str) + \n",
        "                         df_class['C'].astype(str) + \n",
        "                         df_class['B'].astype(str) + \n",
        "                         df_class['A'].astype(str))\n",
        "df_class.head()"
      ],
      "metadata": {
        "colab": {
          "base_uri": "https://localhost:8080/",
          "height": 206
        },
        "id": "mLloVmdzICc6",
        "outputId": "dbdf06d6-7fbe-46be-933d-399101b7af26"
      },
      "execution_count": 144,
      "outputs": [
        {
          "output_type": "execute_result",
          "data": {
            "text/plain": [
              "   G  C  B  A          Ia          Ib          Ic        Va        Vb  \\\n",
              "0  1  0  0  1 -151.291812   -9.677452   85.800162  0.400750 -0.132935   \n",
              "1  1  0  0  1 -336.186183  -76.283262   18.328897  0.312732 -0.123633   \n",
              "2  1  0  0  1 -502.891583 -174.648023  -80.924663  0.265728 -0.114301   \n",
              "3  1  0  0  1 -593.941905 -217.703359 -124.891924  0.235511 -0.104940   \n",
              "4  1  0  0  1 -643.663617 -224.159427 -132.282815  0.209537 -0.095554   \n",
              "\n",
              "         Vc faultType  \n",
              "0 -0.267815      1001  \n",
              "1 -0.189099      1001  \n",
              "2 -0.151428      1001  \n",
              "3 -0.130570      1001  \n",
              "4 -0.113983      1001  "
            ],
            "text/html": [
              "\n",
              "  <div id=\"df-72957d23-9734-4043-b323-e1898d68d076\">\n",
              "    <div class=\"colab-df-container\">\n",
              "      <div>\n",
              "<style scoped>\n",
              "    .dataframe tbody tr th:only-of-type {\n",
              "        vertical-align: middle;\n",
              "    }\n",
              "\n",
              "    .dataframe tbody tr th {\n",
              "        vertical-align: top;\n",
              "    }\n",
              "\n",
              "    .dataframe thead th {\n",
              "        text-align: right;\n",
              "    }\n",
              "</style>\n",
              "<table border=\"1\" class=\"dataframe\">\n",
              "  <thead>\n",
              "    <tr style=\"text-align: right;\">\n",
              "      <th></th>\n",
              "      <th>G</th>\n",
              "      <th>C</th>\n",
              "      <th>B</th>\n",
              "      <th>A</th>\n",
              "      <th>Ia</th>\n",
              "      <th>Ib</th>\n",
              "      <th>Ic</th>\n",
              "      <th>Va</th>\n",
              "      <th>Vb</th>\n",
              "      <th>Vc</th>\n",
              "      <th>faultType</th>\n",
              "    </tr>\n",
              "  </thead>\n",
              "  <tbody>\n",
              "    <tr>\n",
              "      <th>0</th>\n",
              "      <td>1</td>\n",
              "      <td>0</td>\n",
              "      <td>0</td>\n",
              "      <td>1</td>\n",
              "      <td>-151.291812</td>\n",
              "      <td>-9.677452</td>\n",
              "      <td>85.800162</td>\n",
              "      <td>0.400750</td>\n",
              "      <td>-0.132935</td>\n",
              "      <td>-0.267815</td>\n",
              "      <td>1001</td>\n",
              "    </tr>\n",
              "    <tr>\n",
              "      <th>1</th>\n",
              "      <td>1</td>\n",
              "      <td>0</td>\n",
              "      <td>0</td>\n",
              "      <td>1</td>\n",
              "      <td>-336.186183</td>\n",
              "      <td>-76.283262</td>\n",
              "      <td>18.328897</td>\n",
              "      <td>0.312732</td>\n",
              "      <td>-0.123633</td>\n",
              "      <td>-0.189099</td>\n",
              "      <td>1001</td>\n",
              "    </tr>\n",
              "    <tr>\n",
              "      <th>2</th>\n",
              "      <td>1</td>\n",
              "      <td>0</td>\n",
              "      <td>0</td>\n",
              "      <td>1</td>\n",
              "      <td>-502.891583</td>\n",
              "      <td>-174.648023</td>\n",
              "      <td>-80.924663</td>\n",
              "      <td>0.265728</td>\n",
              "      <td>-0.114301</td>\n",
              "      <td>-0.151428</td>\n",
              "      <td>1001</td>\n",
              "    </tr>\n",
              "    <tr>\n",
              "      <th>3</th>\n",
              "      <td>1</td>\n",
              "      <td>0</td>\n",
              "      <td>0</td>\n",
              "      <td>1</td>\n",
              "      <td>-593.941905</td>\n",
              "      <td>-217.703359</td>\n",
              "      <td>-124.891924</td>\n",
              "      <td>0.235511</td>\n",
              "      <td>-0.104940</td>\n",
              "      <td>-0.130570</td>\n",
              "      <td>1001</td>\n",
              "    </tr>\n",
              "    <tr>\n",
              "      <th>4</th>\n",
              "      <td>1</td>\n",
              "      <td>0</td>\n",
              "      <td>0</td>\n",
              "      <td>1</td>\n",
              "      <td>-643.663617</td>\n",
              "      <td>-224.159427</td>\n",
              "      <td>-132.282815</td>\n",
              "      <td>0.209537</td>\n",
              "      <td>-0.095554</td>\n",
              "      <td>-0.113983</td>\n",
              "      <td>1001</td>\n",
              "    </tr>\n",
              "  </tbody>\n",
              "</table>\n",
              "</div>\n",
              "      <button class=\"colab-df-convert\" onclick=\"convertToInteractive('df-72957d23-9734-4043-b323-e1898d68d076')\"\n",
              "              title=\"Convert this dataframe to an interactive table.\"\n",
              "              style=\"display:none;\">\n",
              "        \n",
              "  <svg xmlns=\"http://www.w3.org/2000/svg\" height=\"24px\"viewBox=\"0 0 24 24\"\n",
              "       width=\"24px\">\n",
              "    <path d=\"M0 0h24v24H0V0z\" fill=\"none\"/>\n",
              "    <path d=\"M18.56 5.44l.94 2.06.94-2.06 2.06-.94-2.06-.94-.94-2.06-.94 2.06-2.06.94zm-11 1L8.5 8.5l.94-2.06 2.06-.94-2.06-.94L8.5 2.5l-.94 2.06-2.06.94zm10 10l.94 2.06.94-2.06 2.06-.94-2.06-.94-.94-2.06-.94 2.06-2.06.94z\"/><path d=\"M17.41 7.96l-1.37-1.37c-.4-.4-.92-.59-1.43-.59-.52 0-1.04.2-1.43.59L10.3 9.45l-7.72 7.72c-.78.78-.78 2.05 0 2.83L4 21.41c.39.39.9.59 1.41.59.51 0 1.02-.2 1.41-.59l7.78-7.78 2.81-2.81c.8-.78.8-2.07 0-2.86zM5.41 20L4 18.59l7.72-7.72 1.47 1.35L5.41 20z\"/>\n",
              "  </svg>\n",
              "      </button>\n",
              "      \n",
              "  <style>\n",
              "    .colab-df-container {\n",
              "      display:flex;\n",
              "      flex-wrap:wrap;\n",
              "      gap: 12px;\n",
              "    }\n",
              "\n",
              "    .colab-df-convert {\n",
              "      background-color: #E8F0FE;\n",
              "      border: none;\n",
              "      border-radius: 50%;\n",
              "      cursor: pointer;\n",
              "      display: none;\n",
              "      fill: #1967D2;\n",
              "      height: 32px;\n",
              "      padding: 0 0 0 0;\n",
              "      width: 32px;\n",
              "    }\n",
              "\n",
              "    .colab-df-convert:hover {\n",
              "      background-color: #E2EBFA;\n",
              "      box-shadow: 0px 1px 2px rgba(60, 64, 67, 0.3), 0px 1px 3px 1px rgba(60, 64, 67, 0.15);\n",
              "      fill: #174EA6;\n",
              "    }\n",
              "\n",
              "    [theme=dark] .colab-df-convert {\n",
              "      background-color: #3B4455;\n",
              "      fill: #D2E3FC;\n",
              "    }\n",
              "\n",
              "    [theme=dark] .colab-df-convert:hover {\n",
              "      background-color: #434B5C;\n",
              "      box-shadow: 0px 1px 3px 1px rgba(0, 0, 0, 0.15);\n",
              "      filter: drop-shadow(0px 1px 2px rgba(0, 0, 0, 0.3));\n",
              "      fill: #FFFFFF;\n",
              "    }\n",
              "  </style>\n",
              "\n",
              "      <script>\n",
              "        const buttonEl =\n",
              "          document.querySelector('#df-72957d23-9734-4043-b323-e1898d68d076 button.colab-df-convert');\n",
              "        buttonEl.style.display =\n",
              "          google.colab.kernel.accessAllowed ? 'block' : 'none';\n",
              "\n",
              "        async function convertToInteractive(key) {\n",
              "          const element = document.querySelector('#df-72957d23-9734-4043-b323-e1898d68d076');\n",
              "          const dataTable =\n",
              "            await google.colab.kernel.invokeFunction('convertToInteractive',\n",
              "                                                     [key], {});\n",
              "          if (!dataTable) return;\n",
              "\n",
              "          const docLinkHtml = 'Like what you see? Visit the ' +\n",
              "            '<a target=\"_blank\" href=https://colab.research.google.com/notebooks/data_table.ipynb>data table notebook</a>'\n",
              "            + ' to learn more about interactive tables.';\n",
              "          element.innerHTML = '';\n",
              "          dataTable['output_type'] = 'display_data';\n",
              "          await google.colab.output.renderOutput(dataTable, element);\n",
              "          const docLink = document.createElement('div');\n",
              "          docLink.innerHTML = docLinkHtml;\n",
              "          element.appendChild(docLink);\n",
              "        }\n",
              "      </script>\n",
              "    </div>\n",
              "  </div>\n",
              "  "
            ]
          },
          "metadata": {},
          "execution_count": 144
        }
      ]
    },
    {
      "cell_type": "code",
      "source": [
        "df_class[\"faultType\"].unique()"
      ],
      "metadata": {
        "colab": {
          "base_uri": "https://localhost:8080/"
        },
        "id": "LEOhnpvdHeKa",
        "outputId": "d85dcbe1-3943-4c26-96ab-0300b11806a7"
      },
      "execution_count": 145,
      "outputs": [
        {
          "output_type": "execute_result",
          "data": {
            "text/plain": [
              "array(['1001', '1011', '0110', '0111', '1111', '0000'], dtype=object)"
            ]
          },
          "metadata": {},
          "execution_count": 145
        }
      ]
    },
    {
      "cell_type": "markdown",
      "source": [
        "Data Visualization"
      ],
      "metadata": {
        "id": "KS-tJrN_idyq"
      }
    },
    {
      "cell_type": "code",
      "source": [
        "values = list(df_class[\"faultType\"].value_counts())\n",
        "faults =['No Fault', 'LLG Fault', 'LLLG Fault', 'LG Fault', 'LLL Fault', 'LL Fault']\n",
        "plt.bar(faults, values, width=0.6)\n"
      ],
      "metadata": {
        "colab": {
          "base_uri": "https://localhost:8080/",
          "height": 282
        },
        "id": "bDnWDleJJGXW",
        "outputId": "f2a11765-400f-436b-e80b-a55e638623d4"
      },
      "execution_count": 146,
      "outputs": [
        {
          "output_type": "execute_result",
          "data": {
            "text/plain": [
              "<BarContainer object of 6 artists>"
            ]
          },
          "metadata": {},
          "execution_count": 146
        },
        {
          "output_type": "display_data",
          "data": {
            "text/plain": [
              "<Figure size 432x288 with 1 Axes>"
            ],
            "image/png": "[encoded data removed]"
          },
          "metadata": {
            "needs_background": "light"
          }
        }
      ]
    },
    {
      "cell_type": "code",
      "source": [
        "plt.pie(df_class['faultType'].value_counts(), autopct='%1.1f%%', labels=faults)\n",
        "plt.show()"
      ],
      "metadata": {
        "colab": {
          "base_uri": "https://localhost:8080/",
          "height": 248
        },
        "id": "CY_uigL5JN9R",
        "outputId": "b44ea6a1-d1f6-4618-e937-218757e96da8"
      },
      "execution_count": 147,
      "outputs": [
        {
          "output_type": "display_data",
          "data": {
            "text/plain": [
              "<Figure size 432x288 with 1 Axes>"
            ],
            "image/png": "[encoded data removed]"
          },
          "metadata": {}
        }
      ]
    },
    {
      "cell_type": "markdown",
      "source": [
        "Model Creation"
      ],
      "metadata": {
        "id": "jffkh-8digQz"
      }
    },
    {
      "cell_type": "code",
      "source": [
        "#setting features\n",
        "x = df_class.iloc[:,4:10]\n",
        "#setting target vriable\n",
        "y = df_class['faultType']"
      ],
      "metadata": {
        "id": "G76__sUnJfUx"
      },
      "execution_count": 148,
      "outputs": []
    },
    {
      "cell_type": "code",
      "source": [
        "enc = LabelEncoder()\n",
        "y = enc.fit_transform(y)"
      ],
      "metadata": {
        "id": "R5fAaD3bPjD0"
      },
      "execution_count": 149,
      "outputs": []
    },
    {
      "cell_type": "code",
      "source": [
        "y = keras.utils.to_categorical(y,6)"
      ],
      "metadata": {
        "id": "yZQqDbHzPkHb"
      },
      "execution_count": 150,
      "outputs": []
    },
    {
      "cell_type": "code",
      "source": [
        "x_train, x_test, y_train, y_test = train_test_split(x, y, test_size=0.20)"
      ],
      "metadata": {
        "id": "Tl-0qyz1QBkq"
      },
      "execution_count": 151,
      "outputs": []
    },
    {
      "cell_type": "code",
      "source": [
        "#model creation\n",
        "class_model = keras.models.Sequential()\n",
        "\n",
        "class_model.add(keras.layers.Dense(128,\n",
        "                              input_shape=(6,),\n",
        "                              name='Input_layer',\n",
        "                              activation='relu'))\n",
        "class_model.add(keras.layers.Dense(240,\n",
        "                              name='Hidden_layer1',\n",
        "                              activation='relu'))\n",
        "class_model.add(keras.layers.Dense(240,\n",
        "                              name='Hidden_layer2',\n",
        "                              activation='tanh'))\n",
        "\n",
        "class_model.add(keras.layers.Dense(6,\n",
        "                             name='output_layer',\n",
        "                             activation='softmax'))\n",
        "\n",
        "class_model.compile(\n",
        "    loss='categorical_crossentropy',\n",
        "    metrics = ['accuracy']\n",
        ")"
      ],
      "metadata": {
        "id": "aVknMqIbcn9L"
      },
      "execution_count": 152,
      "outputs": []
    },
    {
      "cell_type": "code",
      "source": [
        "class_model.fit(x_train, y_train, epochs=50, batch_size=64, validation_split=0.2)"
      ],
      "metadata": {
        "colab": {
          "base_uri": "https://localhost:8080/"
        },
        "id": "Wgc6NFnXd9et",
        "outputId": "ca5ba3df-4980-43d3-c020-4ec737f44240"
      },
      "execution_count": 153,
      "outputs": [
        {
          "output_type": "stream",
          "name": "stdout",
          "text": [
            "Epoch 1/50\n",
            "79/79 [==============================] - 1s 7ms/step - loss: 1.1536 - accuracy: 0.5835 - val_loss: 1.0546 - val_accuracy: 0.6574\n",
            "Epoch 2/50\n",
            "79/79 [==============================] - 0s 5ms/step - loss: 0.9865 - accuracy: 0.6249 - val_loss: 0.9910 - val_accuracy: 0.6320\n",
            "Epoch 3/50\n",
            "79/79 [==============================] - 0s 5ms/step - loss: 0.9166 - accuracy: 0.6583 - val_loss: 0.9363 - val_accuracy: 0.6002\n",
            "Epoch 4/50\n",
            "79/79 [==============================] - 0s 5ms/step - loss: 0.8445 - accuracy: 0.6722 - val_loss: 0.7850 - val_accuracy: 0.6781\n",
            "Epoch 5/50\n",
            "79/79 [==============================] - 0s 5ms/step - loss: 0.7754 - accuracy: 0.6879 - val_loss: 0.7942 - val_accuracy: 0.6781\n",
            "Epoch 6/50\n",
            "79/79 [==============================] - 0s 5ms/step - loss: 0.7195 - accuracy: 0.7060 - val_loss: 0.7350 - val_accuracy: 0.7114\n",
            "Epoch 7/50\n",
            "79/79 [==============================] - 0s 6ms/step - loss: 0.6777 - accuracy: 0.7213 - val_loss: 0.9044 - val_accuracy: 0.5946\n",
            "Epoch 8/50\n",
            "79/79 [==============================] - 0s 5ms/step - loss: 0.6349 - accuracy: 0.7352 - val_loss: 0.5849 - val_accuracy: 0.7639\n",
            "Epoch 9/50\n",
            "79/79 [==============================] - 0s 5ms/step - loss: 0.5929 - accuracy: 0.7451 - val_loss: 0.6064 - val_accuracy: 0.7369\n",
            "Epoch 10/50\n",
            "79/79 [==============================] - 0s 5ms/step - loss: 0.5619 - accuracy: 0.7569 - val_loss: 0.6035 - val_accuracy: 0.7432\n",
            "Epoch 11/50\n",
            "79/79 [==============================] - 0s 5ms/step - loss: 0.5476 - accuracy: 0.7682 - val_loss: 0.5121 - val_accuracy: 0.7703\n",
            "Epoch 12/50\n",
            "79/79 [==============================] - 0s 5ms/step - loss: 0.5106 - accuracy: 0.7672 - val_loss: 0.8271 - val_accuracy: 0.6606\n",
            "Epoch 13/50\n",
            "79/79 [==============================] - 0s 5ms/step - loss: 0.5240 - accuracy: 0.7714 - val_loss: 0.5010 - val_accuracy: 0.7758\n",
            "Epoch 14/50\n",
            "79/79 [==============================] - 0s 5ms/step - loss: 0.5001 - accuracy: 0.7783 - val_loss: 0.5145 - val_accuracy: 0.7552\n",
            "Epoch 15/50\n",
            "79/79 [==============================] - 0s 5ms/step - loss: 0.5053 - accuracy: 0.7736 - val_loss: 0.4801 - val_accuracy: 0.7734\n",
            "Epoch 16/50\n",
            "79/79 [==============================] - 0s 5ms/step - loss: 0.4839 - accuracy: 0.7753 - val_loss: 0.4923 - val_accuracy: 0.7750\n",
            "Epoch 17/50\n",
            "79/79 [==============================] - 0s 5ms/step - loss: 0.4780 - accuracy: 0.7704 - val_loss: 0.4583 - val_accuracy: 0.7949\n",
            "Epoch 18/50\n",
            "79/79 [==============================] - 0s 5ms/step - loss: 0.4787 - accuracy: 0.7843 - val_loss: 0.4721 - val_accuracy: 0.7830\n",
            "Epoch 19/50\n",
            "79/79 [==============================] - 0s 5ms/step - loss: 0.4664 - accuracy: 0.7791 - val_loss: 0.5149 - val_accuracy: 0.7409\n",
            "Epoch 20/50\n",
            "79/79 [==============================] - 0s 5ms/step - loss: 0.4669 - accuracy: 0.7787 - val_loss: 0.4694 - val_accuracy: 0.7925\n",
            "Epoch 21/50\n",
            "79/79 [==============================] - 0s 5ms/step - loss: 0.4542 - accuracy: 0.7976 - val_loss: 0.4092 - val_accuracy: 0.8037\n",
            "Epoch 22/50\n",
            "79/79 [==============================] - 0s 5ms/step - loss: 0.4555 - accuracy: 0.7883 - val_loss: 0.4850 - val_accuracy: 0.7917\n",
            "Epoch 23/50\n",
            "79/79 [==============================] - 0s 5ms/step - loss: 0.4411 - accuracy: 0.7913 - val_loss: 0.4985 - val_accuracy: 0.7774\n",
            "Epoch 24/50\n",
            "79/79 [==============================] - 0s 5ms/step - loss: 0.4393 - accuracy: 0.7909 - val_loss: 0.4447 - val_accuracy: 0.7917\n",
            "Epoch 25/50\n",
            "79/79 [==============================] - 0s 5ms/step - loss: 0.4391 - accuracy: 0.7889 - val_loss: 0.4432 - val_accuracy: 0.7957\n",
            "Epoch 26/50\n",
            "79/79 [==============================] - 0s 5ms/step - loss: 0.4354 - accuracy: 0.7924 - val_loss: 0.4707 - val_accuracy: 0.7647\n",
            "Epoch 27/50\n",
            "79/79 [==============================] - 0s 5ms/step - loss: 0.4272 - accuracy: 0.8008 - val_loss: 0.4739 - val_accuracy: 0.7870\n",
            "Epoch 28/50\n",
            "79/79 [==============================] - 0s 5ms/step - loss: 0.4204 - accuracy: 0.7990 - val_loss: 0.4052 - val_accuracy: 0.8084\n",
            "Epoch 29/50\n",
            "79/79 [==============================] - 0s 5ms/step - loss: 0.4229 - accuracy: 0.7982 - val_loss: 0.4051 - val_accuracy: 0.8052\n",
            "Epoch 30/50\n",
            "79/79 [==============================] - 0s 5ms/step - loss: 0.4158 - accuracy: 0.7960 - val_loss: 0.5395 - val_accuracy: 0.7727\n",
            "Epoch 31/50\n",
            "79/79 [==============================] - 0s 5ms/step - loss: 0.4100 - accuracy: 0.8026 - val_loss: 0.5250 - val_accuracy: 0.7480\n",
            "Epoch 32/50\n",
            "79/79 [==============================] - 0s 6ms/step - loss: 0.4077 - accuracy: 0.8046 - val_loss: 0.3955 - val_accuracy: 0.8140\n",
            "Epoch 33/50\n",
            "79/79 [==============================] - 1s 8ms/step - loss: 0.3926 - accuracy: 0.8050 - val_loss: 0.4456 - val_accuracy: 0.7806\n",
            "Epoch 34/50\n",
            "79/79 [==============================] - 1s 7ms/step - loss: 0.3880 - accuracy: 0.8137 - val_loss: 0.4084 - val_accuracy: 0.7949\n",
            "Epoch 35/50\n",
            "79/79 [==============================] - 1s 7ms/step - loss: 0.3874 - accuracy: 0.8060 - val_loss: 0.4436 - val_accuracy: 0.7758\n",
            "Epoch 36/50\n",
            "79/79 [==============================] - 1s 7ms/step - loss: 0.3917 - accuracy: 0.8044 - val_loss: 0.3612 - val_accuracy: 0.8100\n",
            "Epoch 37/50\n",
            "79/79 [==============================] - 0s 5ms/step - loss: 0.3925 - accuracy: 0.8087 - val_loss: 0.3724 - val_accuracy: 0.8172\n",
            "Epoch 38/50\n",
            "79/79 [==============================] - 0s 5ms/step - loss: 0.3863 - accuracy: 0.8056 - val_loss: 0.5032 - val_accuracy: 0.7377\n",
            "Epoch 39/50\n",
            "79/79 [==============================] - 0s 5ms/step - loss: 0.3810 - accuracy: 0.8062 - val_loss: 0.3736 - val_accuracy: 0.8259\n",
            "Epoch 40/50\n",
            "79/79 [==============================] - 0s 5ms/step - loss: 0.3661 - accuracy: 0.8082 - val_loss: 0.3597 - val_accuracy: 0.8196\n",
            "Epoch 41/50\n",
            "79/79 [==============================] - 0s 5ms/step - loss: 0.3684 - accuracy: 0.8151 - val_loss: 0.3770 - val_accuracy: 0.8037\n",
            "Epoch 42/50\n",
            "79/79 [==============================] - 0s 5ms/step - loss: 0.3732 - accuracy: 0.8125 - val_loss: 0.3836 - val_accuracy: 0.8005\n",
            "Epoch 43/50\n",
            "79/79 [==============================] - 0s 5ms/step - loss: 0.3691 - accuracy: 0.8127 - val_loss: 0.3694 - val_accuracy: 0.8108\n",
            "Epoch 44/50\n",
            "79/79 [==============================] - 0s 5ms/step - loss: 0.3653 - accuracy: 0.8093 - val_loss: 0.3823 - val_accuracy: 0.8196\n",
            "Epoch 45/50\n",
            "79/79 [==============================] - 0s 5ms/step - loss: 0.3648 - accuracy: 0.8191 - val_loss: 0.3356 - val_accuracy: 0.8203\n",
            "Epoch 46/50\n",
            "79/79 [==============================] - 0s 5ms/step - loss: 0.3586 - accuracy: 0.8239 - val_loss: 0.4877 - val_accuracy: 0.7893\n",
            "Epoch 47/50\n",
            "79/79 [==============================] - 0s 5ms/step - loss: 0.3638 - accuracy: 0.8163 - val_loss: 0.3624 - val_accuracy: 0.8227\n",
            "Epoch 48/50\n",
            "79/79 [==============================] - 0s 5ms/step - loss: 0.3550 - accuracy: 0.8195 - val_loss: 0.3721 - val_accuracy: 0.8156\n",
            "Epoch 49/50\n",
            "79/79 [==============================] - 0s 5ms/step - loss: 0.3581 - accuracy: 0.8211 - val_loss: 0.3571 - val_accuracy: 0.8203\n",
            "Epoch 50/50\n",
            "79/79 [==============================] - 0s 5ms/step - loss: 0.3565 - accuracy: 0.8177 - val_loss: 0.3689 - val_accuracy: 0.8156\n"
          ]
        },
        {
          "output_type": "execute_result",
          "data": {
            "text/plain": [
              "<keras.callbacks.History at 0x7f81c59477d0>"
            ]
          },
          "metadata": {},
          "execution_count": 153
        }
      ]
    },
    {
      "cell_type": "code",
      "source": [
        "y_pred_prob = class_model.predict(x_test)\n",
        "y_pred = np.argmax(y_pred_prob, axis=1)\n",
        "y_test = np.argmax(y_test,axis=1)"
      ],
      "metadata": {
        "colab": {
          "base_uri": "https://localhost:8080/"
        },
        "id": "oHUj91l7eGvK",
        "outputId": "23f8c35d-3d0e-4cc9-f68a-d2dfe32b896a"
      },
      "execution_count": 154,
      "outputs": [
        {
          "output_type": "stream",
          "name": "stdout",
          "text": [
            "50/50 [==============================] - 0s 2ms/step\n"
          ]
        }
      ]
    },
    {
      "cell_type": "markdown",
      "source": [
        "Model Performance"
      ],
      "metadata": {
        "id": "gYX-VUXsikj5"
      }
    },
    {
      "cell_type": "code",
      "source": [
        "print(classification_report(y_test, y_pred))"
      ],
      "metadata": {
        "colab": {
          "base_uri": "https://localhost:8080/"
        },
        "id": "436WZ7YFeTyY",
        "outputId": "3b75a2ca-37ca-45b5-a73d-2838a0b9340d"
      },
      "execution_count": 155,
      "outputs": [
        {
          "output_type": "stream",
          "name": "stdout",
          "text": [
            "              precision    recall  f1-score   support\n",
            "\n",
            "           0       1.00      1.00      1.00       476\n",
            "           1       0.83      0.90      0.86       195\n",
            "           2       0.74      0.08      0.14       225\n",
            "           3       0.94      0.99      0.97       215\n",
            "           4       0.96      0.92      0.94       238\n",
            "           5       0.46      0.83      0.59       224\n",
            "\n",
            "    accuracy                           0.82      1573\n",
            "   macro avg       0.82      0.79      0.75      1573\n",
            "weighted avg       0.85      0.82      0.79      1573\n",
            "\n"
          ]
        }
      ]
    },
    {
      "cell_type": "code",
      "source": [
        "print(f'Accuracy Score : {accuracy_score(y_test, y_pred)*100:.02f}%')"
      ],
      "metadata": {
        "colab": {
          "base_uri": "https://localhost:8080/"
        },
        "id": "g8Q-QPDWdRKC",
        "outputId": "0915e9ca-0d85-478c-9da0-6ce3bc5431f7"
      },
      "execution_count": 156,
      "outputs": [
        {
          "output_type": "stream",
          "name": "stdout",
          "text": [
            "Accuracy Score : 81.75%\n"
          ]
        }
      ]
    }
  ]
}